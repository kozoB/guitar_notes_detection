{
 "cells": [
  {
   "cell_type": "code",
   "execution_count": 18,
   "metadata": {},
   "outputs": [],
   "source": [
    "import numpy as np\n",
    "import tensorflow as tf\n",
    "import cv2\n",
    "import os"
   ]
  },
  {
   "cell_type": "code",
   "execution_count": 22,
   "metadata": {},
   "outputs": [],
   "source": [
    "class DataMaanger:\n",
    "    def __init__(self, data_path: str):\n",
    "        self.data_path = data_path\n",
    "        self.file_names = os.listdir(data_path)\n",
    "\n",
    "        for i in range(len(self.file_names)):\n",
    "            self.file_names[i] = os.path.join(self.data_path, self.file_names[i])\n",
    "        print(self.file_names)\n",
    "\n",
    "\n",
    "    def play_video_file(self, video_file=None, save_frames=False, output_images_path=\"data\\\\frame_images\", frame_save_interval=0.2):\n",
    "        # Set the first video as default video\n",
    "        if video_file is None:\n",
    "            video_file = self.file_names[0]\n",
    "\n",
    "\n",
    "        print(f\"video file: {video_file}\")\n",
    "\n",
    "        cap = cv2.VideoCapture(video_file)\n",
    "\n",
    "        # Check if the video file opened successfully\n",
    "        if not cap.isOpened():\n",
    "            print(\"Error: Could not open video file.\")\n",
    "            return\n",
    "        \n",
    "        # Get a unique video identifier from the file name\n",
    "        video_id = os.path.splitext(os.path.basename(video_file))[0]\n",
    "        \n",
    "        # Initialize variables for frame saving\n",
    "        if save_frames:\n",
    "            os.makedirs(output_images_path, exist_ok=True)\n",
    "            fps = cap.get(cv2.CAP_PROP_FPS)  # Frames per second\n",
    "            frame_interval = int(fps * frame_save_interval)  # Interval in frames\n",
    "            saved_frame_count = 0\n",
    "            frame_count = 0\n",
    "\n",
    "        # Read and display frames in a loop\n",
    "        while True:\n",
    "            ret, frame = cap.read()  # Read a frame from the video\n",
    "            if not ret:  # Break the loop if no frames are left\n",
    "                print(\"End of video.\")\n",
    "                break\n",
    "\n",
    "            # Display the current frame\n",
    "            cv2.imshow('Video', frame)\n",
    "\n",
    "            # Save frames if enabled\n",
    "            if save_frames and frame_count % frame_interval == 0:\n",
    "                output_path = os.path.join(output_images_path, f\"{video_id}_frame_{saved_frame_count:04d}.jpg\")\n",
    "                cv2.imwrite(output_path, frame)\n",
    "                saved_frame_count += 1\n",
    "\n",
    "            # Increment frame counter\n",
    "            if save_frames:\n",
    "                frame_count += 1\n",
    "\n",
    "            # Break the loop when 'q' is pressed\n",
    "            if cv2.waitKey(25) & 0xFF == ord('q'):\n",
    "                print(\"Video playback interrupted by user.\")\n",
    "                break\n",
    "\n",
    "        # Release the video capture object and close all windows\n",
    "        cap.release()\n",
    "        cv2.destroyAllWindows()\n",
    "        if save_frames:\n",
    "            print(f\"Saved {saved_frame_count} frames to '{output_images_path}'.\")\n"
   ]
  },
  {
   "cell_type": "code",
   "execution_count": 24,
   "metadata": {},
   "outputs": [
    {
     "name": "stdout",
     "output_type": "stream",
     "text": [
      "['data\\\\videos\\\\guitar_1.mp4', 'data\\\\videos\\\\guitar_2.mp4', 'data\\\\videos\\\\guitar_3.mp4']\n",
      "video file: data\\videos\\guitar_3.mp4\n",
      "End of video.\n",
      "Saved 355 frames to 'data\\frame_images'.\n"
     ]
    }
   ],
   "source": [
    "data_maanger = DataMaanger(\"data\\\\videos\")\n",
    "data_maanger.play_video_file(data_maanger.file_names[2], True)"
   ]
  },
  {
   "cell_type": "code",
   "execution_count": null,
   "metadata": {},
   "outputs": [],
   "source": []
  }
 ],
 "metadata": {
  "kernelspec": {
   "display_name": "Python 3",
   "language": "python",
   "name": "python3"
  },
  "language_info": {
   "codemirror_mode": {
    "name": "ipython",
    "version": 3
   },
   "file_extension": ".py",
   "mimetype": "text/x-python",
   "name": "python",
   "nbconvert_exporter": "python",
   "pygments_lexer": "ipython3",
   "version": "3.10.0"
  }
 },
 "nbformat": 4,
 "nbformat_minor": 2
}
