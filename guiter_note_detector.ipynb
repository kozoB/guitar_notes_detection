{
 "cells": [
  {
   "cell_type": "code",
   "execution_count": 1,
   "metadata": {},
   "outputs": [],
   "source": [
    "import numpy as np\n",
    "import tensorflow as tf\n",
    "import cv2\n",
    "import os"
   ]
  },
  {
   "cell_type": "code",
   "execution_count": 2,
   "metadata": {},
   "outputs": [],
   "source": [
    "data_path = \"data\""
   ]
  },
  {
   "cell_type": "code",
   "execution_count": 19,
   "metadata": {},
   "outputs": [],
   "source": [
    "class DataMaanger:\n",
    "    def __init__(self, data_path: str):\n",
    "        self.data_path = data_path\n",
    "        self.file_names = os.listdir(data_path)\n",
    "\n",
    "        for i in range(len(self.file_names)):\n",
    "            self.file_names[i] = f\"data\\\\{self.file_names[i]}\"\n",
    "        print(self.file_names)\n",
    "\n",
    "    def play_video_file(self, video_file=None):\n",
    "        # Set the first video as default video\n",
    "        if video_file is None:\n",
    "            video_file = data_path[0]\n",
    "\n",
    "        cap = cv2.VideoCapture(video_file)\n",
    "        # Check if the video file opened successfully\n",
    "        if not cap.isOpened():\n",
    "            print(\"Error: Could not open video file.\")\n",
    "            exit()\n",
    "\n",
    "        # Read and display frames in a loop\n",
    "        while True:\n",
    "            ret, frame = cap.read()  # Read a frame from the video\n",
    "            if not ret:  # Break the loop if no frames are left\n",
    "                print(\"End of video.\")\n",
    "                break\n",
    "\n",
    "            # Display the current frame\n",
    "            cv2.imshow('Video', frame)\n",
    "\n",
    "            # Break the loop when 'q' is pressed\n",
    "            if cv2.waitKey(25) & 0xFF == ord('q'):\n",
    "                print(\"Video playback interrupted by user.\")\n",
    "                break\n",
    "\n",
    "        # Release the video capture object and close all windows\n",
    "        cap.release()\n",
    "        cv2.destroyAllWindows()\n"
   ]
  },
  {
   "cell_type": "code",
   "execution_count": 20,
   "metadata": {},
   "outputs": [
    {
     "name": "stdout",
     "output_type": "stream",
     "text": [
      "['data\\\\guitar_1.mp4', 'data\\\\guitar_2.mp4', 'data\\\\guitar_3.mp4']\n",
      "Video playback interrupted by user.\n"
     ]
    }
   ],
   "source": [
    "data_maanger = DataMaanger(\"data\")\n",
    "data_maanger.play_video_file(data_maanger.file_names[0])"
   ]
  },
  {
   "cell_type": "code",
   "execution_count": null,
   "metadata": {},
   "outputs": [],
   "source": []
  }
 ],
 "metadata": {
  "kernelspec": {
   "display_name": "Python 3",
   "language": "python",
   "name": "python3"
  },
  "language_info": {
   "codemirror_mode": {
    "name": "ipython",
    "version": 3
   },
   "file_extension": ".py",
   "mimetype": "text/x-python",
   "name": "python",
   "nbconvert_exporter": "python",
   "pygments_lexer": "ipython3",
   "version": "3.10.0"
  }
 },
 "nbformat": 4,
 "nbformat_minor": 2
}
